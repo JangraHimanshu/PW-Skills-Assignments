{
 "cells": [
  {
   "cell_type": "raw",
   "id": "10be5629-849d-4fb9-9d7c-81bcaeec7496",
   "metadata": {},
   "source": [
    "Question1: How do you comment code in Python? What are the different types of comments?"
   ]
  },
  {
   "cell_type": "raw",
   "id": "6ef8b1d1-2354-4bc9-a388-c08ee2696d14",
   "metadata": {},
   "source": [
    "Ans:\n",
    "In Python, you can comment your code to provide explanations, documentations, or to temporarily disable certain parts of the code. There are two types of comments in Python:\n",
    "\n",
    "1. Single-line comments: Single-line comments start with the hash character `#` and continue until the end of the line. They are used to comment on a single line of code.\n",
    "   # This is a single-line comment\n",
    "   print(\"Hello, World!\")  # This is another comment\n",
    "\n",
    "2. Multi-line comments: Multi-line comments, also known as docstrings, are used to document classes, functions, or modules. They can span multiple lines and are enclosed within triple quotes (`\"\"\"` or `'''`).\n",
    "   \"\"\"\n",
    "   This is a multi-line comment.\n",
    "   It can span multiple lines.\n",
    "   \"\"\"\n",
    "\n",
    "   Multi-line comments are commonly used to provide detailed documentation for modules, classes, and functions. They are also used by tools like Sphinx to generate documentation from code.\n",
    "\n",
    "It's important to note that multi-line comments are not technically considered as comments by the Python interpreter. They are treated as string literals, but because they are not assigned to any variable, they are effectively ignored and not executed as code.\n",
    "\n",
    "Here's an example of how comments can be used in Python code:\n",
    "\n",
    "\n",
    "# This is a single-line comment\n",
    "print(\"Hello, World!\")  # This line prints a greeting\n",
    "\n",
    "\"\"\"\n",
    "This is a multi-line comment.\n",
    "It provides additional information about the code below.\n",
    "\"\"\"\n",
    "\n",
    "# Another single-line comment\n",
    "x = 5  # Assigns the value 5 to the variable x\n",
    "\n",
    "\n",
    "Comments are useful for improving code readability, documenting your code, and making it easier for others (including your future self) to understand the purpose and functionality of different parts of your code."
   ]
  },
  {
   "cell_type": "raw",
   "id": "3f496a24-cd61-48ed-9103-aa71f0499d24",
   "metadata": {},
   "source": [
    "Question2: What are variables in Python? How do you declare and assign values to variables?"
   ]
  },
  {
   "cell_type": "raw",
   "id": "bc69eba8-89f3-41bf-b16f-3fd0368ab1dc",
   "metadata": {},
   "source": [
    "Ans:\n",
    "In Python, variables are used to store data values. A variable is like a labeled container that holds a value, which can be of any data type such as numbers, strings, lists, etc. Variables allow you to manipulate and reference data in your code.\n",
    "\n",
    "To declare and assign values to variables in Python, you simply use the assignment operator (`=`). Here's the basic syntax:\n",
    "\n",
    "variable_name = value\n",
    "\n",
    "\n",
    "The `variable_name` is the name you choose for your variable, and `value` is the data you want to assign to that variable.\n",
    "\n",
    "Here are some examples of variable declaration and assignment:\n",
    "# Declaring and assigning a string value to the variable\n",
    "name = \"John\"\n",
    "print(name) \n",
    "\n",
    "# Declaring and assigning an integer value to the variable\n",
    "age = 25\n",
    "print(age) \n",
    "\n",
    "# Declaring and assigning a floating-point value to the variable\n",
    "pi = 3.14159\n",
    "print(pi)  \n",
    "\n",
    "# Declaring and assigning a boolean value to the variable\n",
    "is_valid = True\n",
    "print(is_valid)\n",
    "\n",
    "You can also assign values to multiple variables in a single line using multiple assignments:\n",
    "x = y = z = 0\n",
    "\n",
    "In this case, all three variables `x`, `y`, and `z` are assigned the value `0`.\n",
    "\n",
    "Python is a dynamically-typed language, which means you don't need to explicitly declare the type of a variable. The type of the variable is determined based on the value assigned to it. You can also reassign a variable to a different value of a different type at any point in your code.\n",
    "x = 10  \n",
    "x = \"Hello\"  \n",
    "Variables provide a way to store and manipulate data in your programs, making your code more flexible and reusable."
   ]
  },
  {
   "cell_type": "raw",
   "id": "0491e685-d587-43e0-a9e4-6d56d0a3ad29",
   "metadata": {},
   "source": [
    "Q3) How do you convert one data type to another in Python?\n",
    "Ans:\n",
    "In Python, you can convert one data type to another using type conversion functions or by using the constructor functions of the target data type. Here are some commonly used methods for type conversion:\n",
    "\n",
    "1. Implicit Type Conversion (Coercion):\n",
    "   Python automatically performs implicit type conversion, also known as coercion, when operations involve different data types. For example, when you add an integer and a float, Python converts the integer to a float before performing the addition.\n",
    "x = 10      \n",
    "y = 3.14  \n",
    "\n",
    "result = x + y  \n",
    "print(result)   \n",
    "\n",
    "2. Explicit Type Conversion (Type Casting):\n",
    "   Explicit type conversion, also known as type casting, involves manually converting one data type to another using predefined conversion functions or constructor functions. Here are some commonly used type conversion functions:\n",
    "\n",
    "   - `int()`: Converts a value to an integer.\n",
    "   - `float()`: Converts a value to a floating-point number.\n",
    "   - `str()`: Converts a value to a string.\n",
    "   - `list()`: Converts a value to a list.\n",
    "   - `tuple()`: Converts a value to a tuple.\n",
    "\n",
    "x = 10\n",
    "y = str(x)     \n",
    "print(y)     \n",
    "\n",
    "z = float(x)    \n",
    "print(z)        \n",
    "\n",
    "my_list = list(\"Hello\")\n",
    "print(my_list)         \n",
    "\n",
    "\n",
    "Note that when performing explicit type conversion, it's important to ensure that the conversion is valid. For example, converting a string to an integer will work only if the string represents a valid integer value.\n",
    "\n",
    "number_str = \"123\"\n",
    "number_int = int(number_str) \n",
    "\n",
    "invalid_str = \"abc\"\n",
    "invalid_int = int(invalid_str) \n",
    "\n",
    "By using type conversion, you can transform values between different data types as per your program's requirements."
   ]
  },
  {
   "cell_type": "raw",
   "id": "14ae676f-5810-415c-a719-2781b2aa9873",
   "metadata": {},
   "source": [
    "Q4) How do you write and execute a Python script from the command line?\n",
    "Ans:\n",
    "To write and execute a Python script from the command line, you can follow these steps:\n",
    "\n",
    "1. Open a text editor or an integrated development environment (IDE) to write your Python script.\n",
    "\n",
    "2. Write your Python code in the text editor and save the file with a `.py` extension. For example, you can save it as `script.py`.\n",
    "\n",
    "3. Open a command-line interface (e.g., Terminal on macOS/Linux, Command Prompt on Windows).\n",
    "\n",
    "4. Navigate to the directory where your Python script is located using the `cd` command. For example, if your script is in the `Documents` directory, you can navigate to it using:\n",
    "\n",
    "   cd Documents\n",
    "\n",
    "5. Once you are in the correct directory, you can execute the Python script by typing `python` followed by the script filename. For example:\n",
    " \n",
    "   python script.py\n",
    "\n",
    "   This command will run your Python script using the Python interpreter, and the output (if any) will be displayed in the command-line interface.\n",
    "\n",
    "It's important to ensure that Python is installed on your system and that it is added to the system's PATH environment variable. This allows you to run the `python` command from any directory.\n",
    "\n",
    "Additionally, you can specify the full path to the Python interpreter if it is not in the system's PATH. For example:\n",
    "\n",
    "C:\\Python\\Python39\\python.exe script.py   \n",
    "/usr/bin/python3 script.py               \n",
    "\n",
    "\n",
    "By following these steps, you can write and execute Python scripts directly from the command line."
   ]
  },
  {
   "cell_type": "code",
   "execution_count": 2,
   "id": "1ce24d4a-fd01-409f-a1d2-a236d03a95bd",
   "metadata": {},
   "outputs": [
    {
     "name": "stdout",
     "output_type": "stream",
     "text": [
      "[2, 3]\n"
     ]
    }
   ],
   "source": [
    "#Q5) Given a list my_list = [1, 2, 3, 4, 5], write the code to slice the list and obtain the sub-list [2, 3].\n",
    "my_list = [1, 2, 3, 4, 5]\n",
    "sub_list= my_list[1:3]\n",
    "print(sub_list)"
   ]
  },
  {
   "cell_type": "code",
   "execution_count": 6,
   "id": "971efe1a-0b19-4e83-af9a-f685b7a08ed0",
   "metadata": {},
   "outputs": [
    {
     "name": "stdout",
     "output_type": "stream",
     "text": [
      "(2+3j)\n",
      "(1.5-2.5j)\n",
      "4j\n",
      "(3.7+0j)\n",
      "(3+1j)\n",
      "(8-1j)\n"
     ]
    },
    {
     "data": {
      "text/plain": [
       "\"\\nComplex numbers in Python have built-in functions and attributes to access the real and imaginary parts, calculate the conjugate, find the magnitude, and more. These functionalities can be explored using the complex number object's methods and attributes.\\nComplex numbers are useful in various mathematical and scientific applications, such as electrical engineering, signal processing, and quantum mechanics, where calculations involving imaginary numbers are necessary.\\n\""
      ]
     },
     "execution_count": 6,
     "metadata": {},
     "output_type": "execute_result"
    }
   ],
   "source": [
    "#Q6) What is a complex number in mathematics, and how is it represented in Python?\n",
    "#Ans:\n",
    "\"\"\"\n",
    "In mathematics, a complex number is a number that comprises a real part and an imaginary part. It is represented in the form `a + bi`, where `a` is the real part and `b` is the imaginary part, and `i` is the imaginary unit defined as the square root of -1.\n",
    "In Python, complex numbers can be represented by using the `j` or `J` suffix to denote the imaginary part. The real and imaginary parts can be either integers or floating-point numbers.\n",
    "Here are a few examples of complex number representations in Python:\n",
    "\"\"\"\n",
    "\n",
    "\n",
    "# Complex number with integer real and imaginary parts\n",
    "z1 = 2 + 3j\n",
    "print(z1)  # Output: (2+3j)\n",
    "\n",
    "# Complex number with floating-point real and imaginary parts\n",
    "z2 = 1.5 - 2.5j\n",
    "print(z2)  # Output: (1.5-2.5j)\n",
    "\n",
    "# Complex number with only imaginary part\n",
    "z3 = 0 + 4j\n",
    "print(z3)  # Output: 4j\n",
    "\n",
    "# Complex number with only real part (Note: The imaginary part is 0)\n",
    "z4 = 3.7 + 0j\n",
    "print(z4)  # Output: (3.7+0j)\n",
    "\n",
    "#In Python, complex numbers support arithmetic operations, such as addition, subtraction, multiplication, and division. You can perform operations on complex numbers just like you would with other numeric types.\n",
    "\n",
    "z1 = 2 + 3j\n",
    "z2 = 1 - 2j\n",
    "\n",
    "sum_result = z1 + z2\n",
    "print(sum_result)  # Output: (3+1j)\n",
    "\n",
    "product_result = z1 * z2\n",
    "print(product_result)  # Output: (8-1j)\n",
    "\n",
    "'''\n",
    "Complex numbers in Python have built-in functions and attributes to access the real and imaginary parts, calculate the conjugate, find the magnitude, and more. These functionalities can be explored using the complex number object's methods and attributes.\n",
    "Complex numbers are useful in various mathematical and scientific applications, such as electrical engineering, signal processing, and quantum mechanics, where calculations involving imaginary numbers are necessary.\n",
    "'''"
   ]
  },
  {
   "cell_type": "code",
   "execution_count": null,
   "id": "95a6a805-b87f-4d0c-b680-04363140da70",
   "metadata": {},
   "outputs": [],
   "source": [
    "#Q7) What is the correct way to declare a variable named age and assign the value 25 to it?\n",
    "#Ans:\n",
    "age = 25\n"
   ]
  },
  {
   "cell_type": "code",
   "execution_count": 7,
   "id": "581d2195-647b-4f13-aefb-b0b3453cbadf",
   "metadata": {},
   "outputs": [
    {
     "data": {
      "text/plain": [
       "float"
      ]
     },
     "execution_count": 7,
     "metadata": {},
     "output_type": "execute_result"
    }
   ],
   "source": [
    "#Q8) Declare a variable named price and assign the value 9.99 to it. What data type does this variable belong to?\n",
    "#Ans:\n",
    "price = 9.99\n",
    "type(price)"
   ]
  },
  {
   "cell_type": "code",
   "execution_count": 8,
   "id": "f821e541-aa85-4134-a37a-3742e6058d62",
   "metadata": {},
   "outputs": [
    {
     "name": "stdout",
     "output_type": "stream",
     "text": [
      "Himanshu JanGra\n"
     ]
    }
   ],
   "source": [
    "#Q9) Create a variable named name and assign your full name to it as a string. How would you print the value of this variable?\n",
    "#Ans:\n",
    "name = \"Himanshu JanGra\"\n",
    "print(name)"
   ]
  },
  {
   "cell_type": "code",
   "execution_count": 9,
   "id": "37093afe-7232-4451-940c-d954cace8952",
   "metadata": {},
   "outputs": [
    {
     "name": "stdout",
     "output_type": "stream",
     "text": [
      "World\n"
     ]
    }
   ],
   "source": [
    "#Q10) Given the string \"Hello, World!\", extract the substring \"World\".\n",
    "#Ans:\n",
    "my_string = \"Hello, World!\"\n",
    "sub_string = my_string[7:12]\n",
    "print(sub_string)"
   ]
  },
  {
   "cell_type": "code",
   "execution_count": 10,
   "id": "a8ea3908-af10-4f9f-b02f-ef4e7ad845da",
   "metadata": {},
   "outputs": [],
   "source": [
    "#Q11) Create a variable named \"is_student\" and assign it a boolean value indicating whether you are currently a student or not.\n",
    "#Ans:\n",
    "is_student = True"
   ]
  },
  {
   "cell_type": "code",
   "execution_count": null,
   "id": "31bf6899-f33d-4b47-9b20-e0b884ae7c6f",
   "metadata": {},
   "outputs": [],
   "source": []
  }
 ],
 "metadata": {
  "kernelspec": {
   "display_name": "Python 3 (ipykernel)",
   "language": "python",
   "name": "python3"
  },
  "language_info": {
   "codemirror_mode": {
    "name": "ipython",
    "version": 3
   },
   "file_extension": ".py",
   "mimetype": "text/x-python",
   "name": "python",
   "nbconvert_exporter": "python",
   "pygments_lexer": "ipython3",
   "version": "3.10.8"
  }
 },
 "nbformat": 4,
 "nbformat_minor": 5
}
