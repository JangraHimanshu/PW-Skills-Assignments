{
 "cells": [
  {
   "cell_type": "raw",
   "id": "8fe3d2c4-91b4-4ab8-b7d5-0fc93b69605e",
   "metadata": {},
   "source": [
    "Question 1\n",
    "i)\n",
    "var=\"string\""
   ]
  },
  {
   "cell_type": "raw",
   "id": "33331d21-78cd-4807-a665-239572c0d104",
   "metadata": {},
   "source": [
    "ii)\n",
    "list= [1,2,3,4]"
   ]
  },
  {
   "cell_type": "raw",
   "id": "08d9f687-6278-4374-ba75-4c8d343d0fdc",
   "metadata": {},
   "source": [
    "iii)\n",
    "var2= 2.0"
   ]
  },
  {
   "cell_type": "raw",
   "id": "ab2c555b-04bc-45c3-9365-71a4d71b373c",
   "metadata": {},
   "source": [
    "iv)\n",
    "tup= (1,2,3,4)"
   ]
  },
  {
   "cell_type": "raw",
   "id": "74b0852d-13c7-4de3-bcd0-3f5dee0ea850",
   "metadata": {},
   "source": [
    "Question2\n",
    "i)\n",
    "type= string\n",
    "ii)\n",
    "type= string\n",
    "iii)\n",
    "type= list\n",
    "vi)\n",
    "type= integer"
   ]
  },
  {
   "cell_type": "code",
   "execution_count": 6,
   "id": "502a30bc-dce6-4df6-8e97-6a17961b0bc4",
   "metadata": {},
   "outputs": [
    {
     "name": "stdout",
     "output_type": "stream",
     "text": [
      "2.0\n"
     ]
    }
   ],
   "source": [
    "#Question 3\n",
    "#i) use of /\n",
    "# This is one of the arthmatic operator and this is used to devide two number \n",
    "a=6\n",
    "b=3\n",
    "print(a/b)"
   ]
  },
  {
   "cell_type": "code",
   "execution_count": 1,
   "id": "346f5d00-c1eb-492a-8778-c360a2b398bb",
   "metadata": {},
   "outputs": [
    {
     "name": "stdout",
     "output_type": "stream",
     "text": [
      "1\n"
     ]
    }
   ],
   "source": [
    "#ii) use of %\n",
    "# this operator is used to find reminder after deviding one value by other\n",
    "a=9\n",
    "b=2\n",
    "print(a%b)"
   ]
  },
  {
   "cell_type": "code",
   "execution_count": 2,
   "id": "1836c650-7dfd-4d9c-adf6-e4140a5620e3",
   "metadata": {},
   "outputs": [
    {
     "name": "stdout",
     "output_type": "stream",
     "text": [
      "2\n"
     ]
    }
   ],
   "source": [
    "#iii) use of //\n",
    "# This operator is used to find integer value after deviding one value by other it will return integer value not flot\n",
    "a=5\n",
    "b=2\n",
    "print(a//b)"
   ]
  },
  {
   "cell_type": "code",
   "execution_count": 3,
   "id": "b9fae40e-62ff-455a-ac20-9496ef465b88",
   "metadata": {},
   "outputs": [
    {
     "name": "stdout",
     "output_type": "stream",
     "text": [
      "25\n"
     ]
    }
   ],
   "source": [
    "#vi) Use of **\n",
    "# This operator is used to find out power of a number with respect to another number\n",
    "a=5\n",
    "b=2\n",
    "print(a**b)"
   ]
  },
  {
   "cell_type": "markdown",
   "id": "66fdda0c-2c15-4fc4-8dfe-6d5973c63023",
   "metadata": {},
   "source": []
  },
  {
   "cell_type": "code",
   "execution_count": 5,
   "id": "425700af-f44e-4c72-ba9e-90fb4387187a",
   "metadata": {},
   "outputs": [
    {
     "name": "stdout",
     "output_type": "stream",
     "text": [
      "1\n",
      "<class 'int'>\n",
      "2\n",
      "<class 'int'>\n",
      "3.4\n",
      "<class 'float'>\n",
      "(1, 2, 3)\n",
      "<class 'tuple'>\n",
      "Himanshu\n",
      "<class 'str'>\n",
      "True\n",
      "<class 'bool'>\n",
      "0\n",
      "<class 'int'>\n",
      "1\n",
      "<class 'int'>\n",
      "False\n",
      "<class 'bool'>\n",
      "[4, 5, 6]\n",
      "<class 'list'>\n"
     ]
    }
   ],
   "source": [
    "#Question4\n",
    "l=[1,2,3.4,(1,2,3),\"Himanshu\",True,0,1,False,[4,5,6]]\n",
    "for i in l:\n",
    "    print(i)\n",
    "    print(type(i))"
   ]
  },
  {
   "cell_type": "code",
   "execution_count": 1,
   "id": "24c3b1d9-f5d8-4e37-9c29-36874c05e69c",
   "metadata": {},
   "outputs": [
    {
     "name": "stdin",
     "output_type": "stream",
     "text": [
      "Enter number A:  4\n",
      "Enter number B:  2\n"
     ]
    },
    {
     "name": "stdout",
     "output_type": "stream",
     "text": [
      "Number A is divisible by number B, and it can be divided 2 times.\n"
     ]
    }
   ],
   "source": [
    "#Question5\n",
    "A = int(input(\"Enter number A: \"))\n",
    "B = int(input(\"Enter number B: \"))\n",
    "\n",
    "count = 0\n",
    "\n",
    "while A >= B and A % B == 0:\n",
    "    A = A / B\n",
    "    count += 1\n",
    "\n",
    "if count > 0:\n",
    "    print(f\"Number A is divisible by number B, and it can be divided {count} times.\")\n",
    "else:\n",
    "    print(\"Number A is not divisible by number B.\")\n"
   ]
  },
  {
   "cell_type": "code",
   "execution_count": null,
   "id": "fb173ea3-b8a5-4a36-9aff-9484acae7acd",
   "metadata": {},
   "outputs": [],
   "source": [
    "# Question6\n",
    "l=[1,2,3,4,5,6,7,8,9,10,11,12,13,14,15,16,17,18,19,20,21,22,23,24,25]\n",
    "for i in l:\n",
    "    if i%3==0:\n",
    "        print(\"The element is divisible by 3\")\n",
    "    else:\n",
    "        print(\"It is not divisible by 3\")"
   ]
  },
  {
   "cell_type": "code",
   "execution_count": null,
   "id": "13d1346d-0aae-48b2-a9c1-cc2ff4c9a747",
   "metadata": {},
   "outputs": [],
   "source": [
    "#Question7\n",
    "#Mutable and immutable are concepts used to describe the mutability (ability to change) of data types in programming.\n",
    "\n",
    "#Immutable data types are those whose values cannot be modified after they are created. When an operation is performed on an immutable data type, it usually returns a new value rather than modifying the existing one. Immutable objects are safer in concurrent and multi-threaded environments since they cannot be changed by other parts of the program once created.\n",
    "\n",
    "#On the other hand, mutable data types allow for changes to be made to their values after they are created. They can be modified in-place, which means the same object is modified without creating a new object.\n",
    "\n",
    "#Examples of Immutable Data Types:\n",
    "#1. Strings: Once a string is created, its value cannot be changed. Any operation on a string returns a new string object.\n",
    "   ```python\n",
    "   message = \"Hello\"\n",
    "   new_message = message + \" World\"\n",
    "   print(new_message)  # Output: Hello World\n",
    "   print(message)  # Output: Hello\n",
    "   ```\n",
    "\n",
    "#2. Tuples: Tuples are ordered collections of elements that are immutable.\n",
    "   ```python\n",
    "   point = (3, 4)\n",
    "   # Trying to modify the tuple will result in an error\n",
    "   point[0] = 5  # Raises a TypeError\n",
    "   ```\n",
    "\n",
    "#Examples of Mutable Data Types:\n",
    "#1. Lists: Lists are mutable sequences of elements. They can be modified by adding, removing, or changing elements.\n",
    "   ```python\n",
    "   numbers = [1, 2, 3]\n",
    "   numbers.append(4)\n",
    "   print(numbers)  # Output: [1, 2, 3, 4]\n",
    "   numbers[1] = 5\n",
    "   print(numbers)  # Output: [1, 5, 3, 4]\n",
    "   ```\n",
    "\n",
    "#2. Dictionaries: Dictionaries are mutable data structures that store key-value pairs. The values associated with keys can be modified.\n",
    "   ```python\n",
    "   person = {\"name\": \"John\", \"age\": 25}\n",
    "   person[\"age\"] = 26\n",
    "   print(person)  # Output: {\"name\": \"John\", \"age\": 26}\n",
    "   ```\n",
    "\n",
    "#The immutability of certain data types is advantageous in scenarios where you want to ensure data integrity, pass values safely between functions, or use them as keys in dictionaries. Mutable data types are useful when you need to modify data in-place, such as maintaining a dynamic collection of elements or updating the state of an object."
   ]
  }
 ],
 "metadata": {
  "kernelspec": {
   "display_name": "Python 3 (ipykernel)",
   "language": "python",
   "name": "python3"
  },
  "language_info": {
   "codemirror_mode": {
    "name": "ipython",
    "version": 3
   },
   "file_extension": ".py",
   "mimetype": "text/x-python",
   "name": "python",
   "nbconvert_exporter": "python",
   "pygments_lexer": "ipython3",
   "version": "3.10.8"
  }
 },
 "nbformat": 4,
 "nbformat_minor": 5
}
