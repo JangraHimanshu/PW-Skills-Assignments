{
 "cells": [
  {
   "cell_type": "markdown",
   "id": "8fc333b2-9d51-4ecf-b2a1-b7cc04c38b84",
   "metadata": {},
   "source": [
    "### Q1) Create a vehicle class with an init method having instance variables as name_of_vehicle, max_speed and average_of_vehicle."
   ]
  },
  {
   "cell_type": "code",
   "execution_count": 1,
   "id": "4b87d34d-f329-43bb-92cb-78a8d51c340d",
   "metadata": {},
   "outputs": [],
   "source": [
    "class vehicle:\n",
    "    def __init__(self, name_of_vehicle, max_speed, average_of_vehicle):\n",
    "        self.name_of_vehicle = name_of_vehicle\n",
    "        self.max_speed = max_speed\n",
    "        self.average_of_vehicle = average_of_vehicle\n",
    "    def vehicle_details(self):\n",
    "        return self.name_of_vehicle,self.max_speed, self.average_of_vehicle\n",
    "        "
   ]
  },
  {
   "cell_type": "code",
   "execution_count": 2,
   "id": "71fe8fc0-5679-4173-a8c0-c80e8651471b",
   "metadata": {},
   "outputs": [],
   "source": [
    "obj_vehicle = vehicle( \"bike\", 150, 23)"
   ]
  },
  {
   "cell_type": "code",
   "execution_count": 3,
   "id": "1c79d444-ec16-41bb-b470-a7f122ef8d51",
   "metadata": {},
   "outputs": [
    {
     "data": {
      "text/plain": [
       "('bike', 150, 23)"
      ]
     },
     "execution_count": 3,
     "metadata": {},
     "output_type": "execute_result"
    }
   ],
   "source": [
    "obj_vehicle.vehicle_details()"
   ]
  },
  {
   "cell_type": "markdown",
   "id": "e2db8bcf-97bd-45a3-8185-63d06f633f12",
   "metadata": {
    "tags": []
   },
   "source": [
    "### Q2. Create a child class car from the vehicle class created in Que 1, which will inherit the vehicle class. Create a method named seating_capacity which takes capacity as an argument and returns the name of the vehicle and its seating capacity."
   ]
  },
  {
   "cell_type": "code",
   "execution_count": 4,
   "id": "5f4e9a6e-129f-44cb-a367-a9f75694131a",
   "metadata": {},
   "outputs": [],
   "source": [
    "class vehicle:\n",
    "    def __init__(self, name_of_vehicle, max_speed, average_of_vehicle):\n",
    "        self.name_of_vehicle = name_of_vehicle\n",
    "        self.max_speed = max_speed\n",
    "        self.average_of_vehicle = average_of_vehicle\n",
    "    def vehicle_details(self):\n",
    "        return self.name_of_vehicle,self.max_speed, self.average_of_vehicle"
   ]
  },
  {
   "cell_type": "code",
   "execution_count": 5,
   "id": "3624b97d-c8d2-4a49-a064-7d886637f99e",
   "metadata": {},
   "outputs": [],
   "source": [
    "class car(vehicle):\n",
    "    def __init__(self,name_of_vehicle,capacity):\n",
    "        self.name_of_vehicle= name_of_vehicle\n",
    "        self.capacity= capacity\n",
    "    def seating_capacity(self):\n",
    "        return  self.name_of_vehicle,self.capacity"
   ]
  },
  {
   "cell_type": "code",
   "execution_count": 6,
   "id": "b176f2b0-358a-4106-b3f2-5f5404b9a2c0",
   "metadata": {},
   "outputs": [],
   "source": [
    "obj_car = car('bike',2)"
   ]
  },
  {
   "cell_type": "code",
   "execution_count": 7,
   "id": "9c312f61-c752-40ba-8b4e-3df2b1c7579b",
   "metadata": {},
   "outputs": [
    {
     "data": {
      "text/plain": [
       "('bike', 2)"
      ]
     },
     "execution_count": 7,
     "metadata": {},
     "output_type": "execute_result"
    }
   ],
   "source": [
    "obj_car.seating_capacity()"
   ]
  },
  {
   "cell_type": "markdown",
   "id": "8107f587-1b51-49c2-bc31-32c7c7964e48",
   "metadata": {},
   "source": [
    "### Q3. What is multiple inheritance? Write a python code to demonstrate multiple inheritance."
   ]
  },
  {
   "cell_type": "code",
   "execution_count": 8,
   "id": "ec1f7c67-0aee-4146-a5a8-f63d2ec72af4",
   "metadata": {},
   "outputs": [],
   "source": [
    "'''A child class can be derived from more than one parent class in Python and can have properties of all parents class.\n",
    "This is called multiple inheritance.'''\n",
    "\n",
    "class parent_class1:\n",
    "    def method_class1(self):\n",
    "        return 'This is first parent class '\n",
    "\n",
    "class parent_class2:\n",
    "    def method_class2(self):\n",
    "        return 'This is second parent class'"
   ]
  },
  {
   "cell_type": "code",
   "execution_count": 9,
   "id": "b3ece938-8cc5-4ebe-971e-612bd3d0cfe4",
   "metadata": {},
   "outputs": [],
   "source": [
    "class child_class(parent_class1, parent_class2):\n",
    "    def method_childclass(self):\n",
    "        pass"
   ]
  },
  {
   "cell_type": "code",
   "execution_count": 10,
   "id": "3c3957bb-2278-469f-97bc-6628217edc71",
   "metadata": {},
   "outputs": [],
   "source": [
    "obj= child_class()"
   ]
  },
  {
   "cell_type": "code",
   "execution_count": 11,
   "id": "e072e81d-64f8-4f01-9e13-afe8484e5d42",
   "metadata": {},
   "outputs": [
    {
     "data": {
      "text/plain": [
       "'This is first parent class '"
      ]
     },
     "execution_count": 11,
     "metadata": {},
     "output_type": "execute_result"
    }
   ],
   "source": [
    "obj.method_class1()"
   ]
  },
  {
   "cell_type": "code",
   "execution_count": 12,
   "id": "4c5a8810-9f17-4ba2-b4e7-ade8edb1b272",
   "metadata": {},
   "outputs": [
    {
     "data": {
      "text/plain": [
       "'This is second parent class'"
      ]
     },
     "execution_count": 12,
     "metadata": {},
     "output_type": "execute_result"
    }
   ],
   "source": [
    "obj.method_class2()"
   ]
  },
  {
   "cell_type": "markdown",
   "id": "90bb4679-0826-460d-923d-5ef2212f9218",
   "metadata": {},
   "source": [
    "### Q4. What are getter and setter in python? Create a class and create a getter and a setter method in this class."
   ]
  },
  {
   "cell_type": "raw",
   "id": "b1a0d22a-ef48-4075-89cb-757dfa8716b7",
   "metadata": {},
   "source": [
    "Getter: A method that allows you to access an attribute in a given class. \n",
    "Setter: A method that allows you to set or mutate the value of an attribute in a class."
   ]
  },
  {
   "cell_type": "code",
   "execution_count": 13,
   "id": "28f5915f-0213-4c19-99be-0eea282a3cdb",
   "metadata": {},
   "outputs": [],
   "source": [
    "class class1:\n",
    "    def __init__(self,name, age=0):\n",
    "        self.__name= name\n",
    "        self.__age = age\n",
    "    \n",
    "    def set_age(self, age_upd):\n",
    "        self.__age = age_upd\n",
    "        \n",
    "    def get_details(self):\n",
    "        return self.__name,self.__age"
   ]
  },
  {
   "cell_type": "code",
   "execution_count": 14,
   "id": "c919857d-6383-4ac5-9511-f4d71526e03d",
   "metadata": {},
   "outputs": [],
   "source": [
    "himanshu = class1('Himanshu')"
   ]
  },
  {
   "cell_type": "code",
   "execution_count": 15,
   "id": "586354f0-f2a3-4e81-a565-573593a3956c",
   "metadata": {},
   "outputs": [],
   "source": [
    "himanshu.set_age(22)"
   ]
  },
  {
   "cell_type": "code",
   "execution_count": 16,
   "id": "e9f3f1a3-e11f-4667-9e14-ac5d68f06c16",
   "metadata": {},
   "outputs": [
    {
     "data": {
      "text/plain": [
       "('Himanshu', 22)"
      ]
     },
     "execution_count": 16,
     "metadata": {},
     "output_type": "execute_result"
    }
   ],
   "source": [
    "himanshu.get_details()"
   ]
  },
  {
   "cell_type": "markdown",
   "id": "c43cfd5b-6af4-47fb-ad91-4ada9332e432",
   "metadata": {},
   "source": [
    "### Q5.What is method overriding in python? Write a python code to demonstrate method overriding."
   ]
  },
  {
   "cell_type": "markdown",
   "id": "f22594ee-6b34-4b31-bc71-95b5f496c110",
   "metadata": {},
   "source": [
    "Method overriding in Python occurs when a child class defines a method with the same name as a method in its parent class, effectively replacing the implementation of the parente class method in the child class. This allows the child class to provide a specialized implementation of the method."
   ]
  },
  {
   "cell_type": "code",
   "execution_count": 2,
   "id": "2981ef80-2032-44f7-b216-e942372705ab",
   "metadata": {},
   "outputs": [],
   "source": [
    "class animal:\n",
    "    def speak(self):\n",
    "        print('Animal makes a sound')\n",
    "        \n",
    "class dog(animal):\n",
    "    def speak(self):\n",
    "        print('Dog barks')\n",
    "        \n",
    "class cat(animal):\n",
    "    def speak(self):\n",
    "        print(\"Cat meows\")"
   ]
  },
  {
   "cell_type": "code",
   "execution_count": 3,
   "id": "1592edea-31f8-4ea2-ab0a-dd50284a5c24",
   "metadata": {},
   "outputs": [],
   "source": [
    "animal = animal()"
   ]
  },
  {
   "cell_type": "code",
   "execution_count": 4,
   "id": "19b429fd-71d7-4b9d-9040-494712e799e4",
   "metadata": {},
   "outputs": [
    {
     "name": "stdout",
     "output_type": "stream",
     "text": [
      "Animal makes a sound\n"
     ]
    }
   ],
   "source": [
    "animal.speak()"
   ]
  },
  {
   "cell_type": "code",
   "execution_count": 5,
   "id": "ce10f145-130b-4003-a41b-7b07898b3cd4",
   "metadata": {},
   "outputs": [],
   "source": [
    "dog = dog()"
   ]
  },
  {
   "cell_type": "code",
   "execution_count": 7,
   "id": "f46cbfb5-e6d2-4161-8409-74032181939d",
   "metadata": {},
   "outputs": [
    {
     "name": "stdout",
     "output_type": "stream",
     "text": [
      "Dog barks\n"
     ]
    }
   ],
   "source": [
    "dog.speak()"
   ]
  },
  {
   "cell_type": "code",
   "execution_count": 8,
   "id": "e20f3933-bb2b-4626-909a-51855cbf745e",
   "metadata": {},
   "outputs": [],
   "source": [
    "cat= cat()"
   ]
  },
  {
   "cell_type": "code",
   "execution_count": 9,
   "id": "9198cd7e-5590-4648-bcdb-f79cb19b233e",
   "metadata": {},
   "outputs": [
    {
     "name": "stdout",
     "output_type": "stream",
     "text": [
      "Cat meows\n"
     ]
    }
   ],
   "source": [
    "cat.speak()"
   ]
  },
  {
   "cell_type": "code",
   "execution_count": null,
   "id": "5cf0cbfa-465a-4712-81c4-457c432c77b2",
   "metadata": {},
   "outputs": [],
   "source": []
  }
 ],
 "metadata": {
  "kernelspec": {
   "display_name": "Python 3 (ipykernel)",
   "language": "python",
   "name": "python3"
  },
  "language_info": {
   "codemirror_mode": {
    "name": "ipython",
    "version": 3
   },
   "file_extension": ".py",
   "mimetype": "text/x-python",
   "name": "python",
   "nbconvert_exporter": "python",
   "pygments_lexer": "ipython3",
   "version": "3.10.8"
  }
 },
 "nbformat": 4,
 "nbformat_minor": 5
}
